{
 "cells": [
  {
   "cell_type": "code",
   "execution_count": 3,
   "metadata": {},
   "outputs": [],
   "source": [
    "import openai"
   ]
  },
  {
   "cell_type": "code",
   "execution_count": 4,
   "metadata": {},
   "outputs": [],
   "source": [
    "from openai import OpenAI"
   ]
  },
  {
   "cell_type": "code",
   "execution_count": 2,
   "metadata": {},
   "outputs": [],
   "source": [
    "import os"
   ]
  },
  {
   "cell_type": "code",
   "execution_count": 7,
   "metadata": {},
   "outputs": [],
   "source": [
    "client = OpenAI()"
   ]
  },
  {
   "cell_type": "code",
   "execution_count": 9,
   "metadata": {},
   "outputs": [],
   "source": [
    "response = client.chat.completions.create(\n",
    "    model=\"gpt-4o-mini\",\n",
    "    messages = [{\"role\": \"user\",\"content\": \"How many mirrors are present in a car?\"}]\n",
    ")"
   ]
  },
  {
   "cell_type": "code",
   "execution_count": 11,
   "metadata": {},
   "outputs": [
    {
     "name": "stdout",
     "output_type": "stream",
     "text": [
      "The number of mirrors in a car can vary depending on the make and model, but typically, a standard car will have the following mirrors:\n",
      "\n",
      "1. **Rearview Mirror**: Positioned inside the car, usually on the windshield.\n",
      "2. **Side Mirrors (Wing Mirrors)**: Most cars have two side mirrors, one on each side of the vehicle.\n",
      "\n",
      "So, a standard car usually has **three mirrors**: one rearview mirror and two side mirrors. Some vehicles may have additional features such as:\n",
      "\n",
      "- **Additional side mirrors** on larger vehicles (like trucks or SUVs).\n",
      "- **Blind spot mirrors** that can be attached to side mirrors.\n",
      "- **Power folding mirrors** that can function as additional components.\n",
      "\n",
      "In summary, while the standard number is three, the total can vary based on the vehicle's design and additional options.\n"
     ]
    }
   ],
   "source": [
    "print(response.choices[0].message.content)"
   ]
  }
 ],
 "metadata": {
  "kernelspec": {
   "display_name": ".venv",
   "language": "python",
   "name": "python3"
  },
  "language_info": {
   "codemirror_mode": {
    "name": "ipython",
    "version": 3
   },
   "file_extension": ".py",
   "mimetype": "text/x-python",
   "name": "python",
   "nbconvert_exporter": "python",
   "pygments_lexer": "ipython3",
   "version": "3.12.1"
  }
 },
 "nbformat": 4,
 "nbformat_minor": 2
}
